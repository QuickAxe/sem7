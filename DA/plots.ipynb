{
 "cells": [
  {
   "cell_type": "markdown",
   "metadata": {},
   "source": [
    "# Plotting in R"
   ]
  },
  {
   "cell_type": "markdown",
   "metadata": {},
   "source": [
    "#### When it comes to interpreting the world and the enormous amount of data it is producing on a daily basis, Data Visualization becomes the most desirable way. Rather than screening huge Excel sheets, it is always better to visualize that data through charts and graphs, to gain meaningful insights."
   ]
  },
  {
   "cell_type": "markdown",
   "metadata": {},
   "source": [
    "## Graph plotting in R is of two types:\n",
    "### One-dimensional Plotting:\n",
    "In one-dimensional plotting, we plot one variable at a time. These are the main types of one dimenional plots:\n",
    " \n",
    "   1) Five Point Summary\n",
    "   2) Box Plotting\n",
    "   3) Histograms\n",
    "   4) Bar Plotting\n",
    "\n",
    "### Two-dimensional Plotting: \n",
    "   In two-dimensional plotting, we visualize and compare one variable with respect to the other. These are the main types of two dimenional plots:\n",
    "   1) Box Plotting\n",
    "   2) Scatter plots\n",
    "\n"
   ]
  },
  {
   "cell_type": "markdown",
   "metadata": {},
   "source": [
    "#### For this live demo, let's use one of Rs many built in datasets:\n",
    "Import a library to use inbuilt R datasets, and load the dataset called mtcars."
   ]
  },
  {
   "cell_type": "code",
   "execution_count": null,
   "metadata": {
    "vscode": {
     "languageId": "r"
    }
   },
   "outputs": [],
   "source": [
    "library(datasets)\n",
    "data(mtcars)"
   ]
  },
  {
   "cell_type": "markdown",
   "metadata": {},
   "source": [
    "Lets visualise what this dataset looks like by looking at its first few rows"
   ]
  },
  {
   "cell_type": "code",
   "execution_count": null,
   "metadata": {
    "vscode": {
     "languageId": "r"
    }
   },
   "outputs": [],
   "source": [
    "head(mtcars)"
   ]
  },
  {
   "cell_type": "markdown",
   "metadata": {},
   "source": [
    "Now, lets look at each type of plot in detail:\n",
    "### One dimensional Plots:"
   ]
  },
  {
   "cell_type": "markdown",
   "metadata": {},
   "source": [
    "#### Five point summary:"
   ]
  },
  {
   "cell_type": "markdown",
   "metadata": {},
   "source": [
    "This summary lists down features like Mean, Median, Minimum Value, Maximum Value, and Quadrant values of the particular column. "
   ]
  },
  {
   "cell_type": "code",
   "execution_count": null,
   "metadata": {
    "vscode": {
     "languageId": "r"
    }
   },
   "outputs": [],
   "source": [
    "summary(mtcars$hp)"
   ]
  },
  {
   "cell_type": "markdown",
   "metadata": {},
   "source": [
    "#### Box Plots:\n",
    "Box plot is a type of chart that depicts a group of numerical data through their quartiles."
   ]
  },
  {
   "cell_type": "code",
   "execution_count": null,
   "metadata": {
    "vscode": {
     "languageId": "r"
    }
   },
   "outputs": [],
   "source": [
    "boxplot(mtcars$disp, col = \"blue\")"
   ]
  },
  {
   "cell_type": "markdown",
   "metadata": {},
   "source": [
    "#### Histograms:\n",
    "Histograms are the most widely used plots for analyzing datasets. Here is how we can plot a histogram that maps a variable (column name) to its frequency:\n",
    "The breaks value here are essentially the number of bins here."
   ]
  },
  {
   "cell_type": "code",
   "execution_count": null,
   "metadata": {
    "vscode": {
     "languageId": "r"
    }
   },
   "outputs": [],
   "source": [
    "# plot 1\n",
    "hist(mtcars$mpg, col = \"blue\")\n",
    "# miles per gallon (freedom units am I right?)\n",
    "\n",
    "# plot 2\n",
    "hist(mtcars$mpg, col = \"blue\", breaks = 25)\n",
    "# plot 3\n",
    "hist(mtcars$mpg, col = \"blue\", breaks = 50)"
   ]
  },
  {
   "cell_type": "markdown",
   "metadata": {},
   "source": [
    "#### Bar plot:\n",
    "In bar graphs, we get a discrete value-frequency mapping for each value present in the variable (column)."
   ]
  },
  {
   "cell_type": "code",
   "execution_count": null,
   "metadata": {
    "vscode": {
     "languageId": "r"
    }
   },
   "outputs": [],
   "source": [
    "barplot(table(mtcars$carb), col = \"blue\")\n",
    "# here, table() function creates a categorical representation of data\n",
    "# with variable name and the frequency in the form of a table."
   ]
  },
  {
   "cell_type": "markdown",
   "metadata": {},
   "source": [
    "### Two dimensional Plots:\n",
    "#### Box Plot:\n",
    "Suppose we wish to generate multiple boxplots, on the basis of the number of gears that each car has. So, the number of boxplots we wish to have is equal to the number of discrete values in the column ‘gear’, i.e. one plot for each value of the gear. This can be achieved in the following way:"
   ]
  },
  {
   "cell_type": "code",
   "execution_count": null,
   "metadata": {
    "vscode": {
     "languageId": "r"
    }
   },
   "outputs": [],
   "source": [
    "boxplot(mpg ~ gear, data = mtcars, col = \"blue\")"
   ]
  },
  {
   "cell_type": "markdown",
   "metadata": {},
   "source": [
    "#### Scatter Plot\n",
    "Scatter plots are used to plot data points for two variables on the x and y-axis. They tell us patterns amongst data and are widely used for modeling ML algorithms. Here, we scatter plot the column qsec with respect to the column mpg."
   ]
  },
  {
   "cell_type": "code",
   "execution_count": null,
   "metadata": {
    "vscode": {
     "languageId": "r"
    }
   },
   "outputs": [],
   "source": [
    "plot(mtcars$mpg, mtcars$qsec)"
   ]
  },
  {
   "cell_type": "markdown",
   "metadata": {},
   "source": [
    "### GGPLOT2 :\n",
    "ggplot2 is a system for declaratively creating graphics, based on The Grammar of Graphics. You provide the data, tell ggplot2 how to map variables to aesthetics, what graphical primitives to use, and it takes care of the details."
   ]
  },
  {
   "cell_type": "markdown",
   "metadata": {},
   "source": [
    "A sample scatter plot using ggplot2, which looks a whole lot better, and has a lot more parameters to tweak"
   ]
  },
  {
   "cell_type": "code",
   "execution_count": null,
   "metadata": {
    "vscode": {
     "languageId": "r"
    }
   },
   "outputs": [],
   "source": [
    "ggplot(mtcars, aes(x = wt, y = mpg)) +\n",
    "  geom_point(color = \"blue\", size = 6) +\n",
    "  labs(title = \"Scatter Plot of Weight vs. MPG\",\n",
    "       x = \"Weight (1000 lbs)\",\n",
    "       y = \"Miles per Gallon\") +\n",
    "  theme_minimal()"
   ]
  },
  {
   "cell_type": "markdown",
   "metadata": {},
   "source": [
    "Another nice ggplot2 scatter plot, that shows the relationship between engine displacement and highway mileage, with different colors representing different vehicle classes:"
   ]
  },
  {
   "cell_type": "code",
   "execution_count": null,
   "metadata": {
    "vscode": {
     "languageId": "r"
    }
   },
   "outputs": [],
   "source": [
    "ggplot(mpg, aes(displ, hwy, colour = class)) +\n",
    "  geom_point()"
   ]
  },
  {
   "cell_type": "markdown",
   "metadata": {},
   "source": [
    "#### A line plot using GGPLOT2:\n",
    "This plot displays the relationship between the weight of vehicles, and the miles per gallon."
   ]
  },
  {
   "cell_type": "code",
   "execution_count": null,
   "metadata": {
    "vscode": {
     "languageId": "r"
    }
   },
   "outputs": [],
   "source": [
    "ggplot(mtcars, aes(x = wt, y = mpg)) +\n",
    "  geom_line()"
   ]
  },
  {
   "cell_type": "markdown",
   "metadata": {},
   "source": [
    "A more complex scatter plot, showing what ggplot2 is capable of:"
   ]
  },
  {
   "cell_type": "code",
   "execution_count": null,
   "metadata": {
    "vscode": {
     "languageId": "r"
    }
   },
   "outputs": [],
   "source": [
    "# Enhanced scatter plot with customized colors and theme\n",
    "ggplot(mpg, aes(displ, hwy, color = class, shape = class)) +\n",
    "  geom_point(size = 3) +\n",
    "  labs(title = \"Engine Displacement vs. Highway MPG\",\n",
    "       x = \"Engine Displacement (L)\",\n",
    "       y = \"Highway MPG\") +\n",
    "  theme_minimal() +\n",
    "  theme(legend.position = \"top\")"
   ]
  },
  {
   "cell_type": "markdown",
   "metadata": {},
   "source": [
    "A more complex line plot:"
   ]
  },
  {
   "cell_type": "code",
   "execution_count": null,
   "metadata": {
    "vscode": {
     "languageId": "r"
    }
   },
   "outputs": [],
   "source": [
    "ggplot(mpg, aes(x = displ, y = hwy, color = class)) +\n",
    "  geom_smooth(se = FALSE, size = 1.2) +\n",
    "  geom_point(size = 2, alpha = 0.6) +\n",
    "  labs(title = \"Highway MPG Trend by Engine Displacement\",\n",
    "       x = \"Engine Displacement (L)\",\n",
    "       y = \"Highway MPG\") +\n",
    "  theme_light() +\n",
    "  theme(legend.position = \"right\")"
   ]
  }
 ],
 "metadata": {
  "language_info": {
   "name": "python"
  }
 },
 "nbformat": 4,
 "nbformat_minor": 2
}
